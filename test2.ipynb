{
 "cells": [
  {
   "cell_type": "code",
   "execution_count": 2,
   "metadata": {},
   "outputs": [],
   "source": [
    "import numpy as np\n",
    "\n",
    "data=np.load('data.npy')\n",
    "target=np.load('target.npy')\n",
    "\n",
    "#loading the save numpy arrays in the previous code"
   ]
  },
  {
   "cell_type": "code",
   "execution_count": 3,
   "metadata": {},
   "outputs": [],
   "source": [
    "from keras.models import Sequential\n",
    "from keras.layers import Dense,Activation,Flatten,Dropout\n",
    "from keras.layers import Conv2D,MaxPooling2D\n",
    "from keras.callbacks import ModelCheckpoint\n",
    "\n",
    "model=Sequential()\n",
    "\n",
    "model.add(Conv2D(200,(3,3),input_shape=data.shape[1:]))\n",
    "model.add(Activation('relu'))\n",
    "model.add(MaxPooling2D(pool_size=(2,2)))\n",
    "#The first CNN layer followed by Relu and MaxPooling layers\n",
    "\n",
    "model.add(Conv2D(100,(3,3)))\n",
    "model.add(Activation('relu'))\n",
    "model.add(MaxPooling2D(pool_size=(2,2)))\n",
    "#The second convolution layer followed by Relu and MaxPooling layers\n",
    "\n",
    "model.add(Flatten())\n",
    "model.add(Dropout(0.5))\n",
    "#Flatten layer to stack the output convolutions from second convolution layer\n",
    "model.add(Dense(50,activation='relu'))\n",
    "#Dense layer of 64 neurons\n",
    "model.add(Dense(2,activation='softmax'))\n",
    "#The Final layer with two outputs for two categories\n",
    "\n",
    "model.compile(loss='categorical_crossentropy',optimizer='adam',metrics=['accuracy'])"
   ]
  },
  {
   "cell_type": "code",
   "execution_count": 4,
   "metadata": {},
   "outputs": [],
   "source": [
    "from sklearn.model_selection import train_test_split\n",
    "\n",
    "train_data,test_data,train_target,test_target=train_test_split(data,target,test_size=0.1)"
   ]
  },
  {
   "cell_type": "code",
   "execution_count": 5,
   "metadata": {},
   "outputs": [
    {
     "name": "stdout",
     "output_type": "stream",
     "text": [
      "Epoch 1/20\n",
      "28/28 [==============================] - 62s 2s/step - loss: 0.7259 - accuracy: 0.5362 - val_loss: 0.6561 - val_accuracy: 0.7557\n",
      "INFO:tensorflow:Assets written to: model-001.model\\assets\n",
      "Epoch 2/20\n",
      "28/28 [==============================] - 79s 3s/step - loss: 0.6210 - accuracy: 0.6312 - val_loss: 0.5487 - val_accuracy: 0.8054\n",
      "INFO:tensorflow:Assets written to: model-002.model\\assets\n",
      "Epoch 3/20\n",
      "28/28 [==============================] - 64s 2s/step - loss: 0.4661 - accuracy: 0.7862 - val_loss: 0.3866 - val_accuracy: 0.8462\n",
      "INFO:tensorflow:Assets written to: model-003.model\\assets\n",
      "Epoch 4/20\n",
      "28/28 [==============================] - 60s 2s/step - loss: 0.3627 - accuracy: 0.8518 - val_loss: 0.4038 - val_accuracy: 0.8507\n",
      "Epoch 5/20\n",
      "28/28 [==============================] - 51s 2s/step - loss: 0.2662 - accuracy: 0.8925 - val_loss: 0.2769 - val_accuracy: 0.8914\n",
      "INFO:tensorflow:Assets written to: model-005.model\\assets\n",
      "Epoch 6/20\n",
      "28/28 [==============================] - 59s 2s/step - loss: 0.1770 - accuracy: 0.9344 - val_loss: 0.2227 - val_accuracy: 0.9050\n",
      "INFO:tensorflow:Assets written to: model-006.model\\assets\n",
      "Epoch 7/20\n",
      "28/28 [==============================] - 59s 2s/step - loss: 0.1336 - accuracy: 0.9514 - val_loss: 0.1719 - val_accuracy: 0.9412\n",
      "INFO:tensorflow:Assets written to: model-007.model\\assets\n",
      "Epoch 8/20\n",
      "28/28 [==============================] - 57s 2s/step - loss: 0.1138 - accuracy: 0.9536 - val_loss: 0.1639 - val_accuracy: 0.9502\n",
      "INFO:tensorflow:Assets written to: model-008.model\\assets\n",
      "Epoch 9/20\n",
      "28/28 [==============================] - 57s 2s/step - loss: 0.0755 - accuracy: 0.9785 - val_loss: 0.1603 - val_accuracy: 0.9367\n",
      "INFO:tensorflow:Assets written to: model-009.model\\assets\n",
      "Epoch 10/20\n",
      "28/28 [==============================] - 55s 2s/step - loss: 0.0568 - accuracy: 0.9808 - val_loss: 0.1890 - val_accuracy: 0.9276\n",
      "Epoch 11/20\n",
      "28/28 [==============================] - 51s 2s/step - loss: 0.0379 - accuracy: 0.9842 - val_loss: 0.2114 - val_accuracy: 0.9412\n",
      "Epoch 12/20\n",
      "28/28 [==============================] - 49s 2s/step - loss: 0.0645 - accuracy: 0.9762 - val_loss: 0.1953 - val_accuracy: 0.9367\n",
      "Epoch 13/20\n",
      "28/28 [==============================] - 49s 2s/step - loss: 0.0671 - accuracy: 0.9740 - val_loss: 0.1967 - val_accuracy: 0.9321\n",
      "Epoch 14/20\n",
      "28/28 [==============================] - 48s 2s/step - loss: 0.0307 - accuracy: 0.9921 - val_loss: 0.1633 - val_accuracy: 0.9457\n",
      "Epoch 15/20\n",
      "28/28 [==============================] - 49s 2s/step - loss: 0.0240 - accuracy: 0.9921 - val_loss: 0.2516 - val_accuracy: 0.9186\n",
      "Epoch 16/20\n",
      "28/28 [==============================] - 49s 2s/step - loss: 0.0375 - accuracy: 0.9876 - val_loss: 0.1202 - val_accuracy: 0.9593\n",
      "INFO:tensorflow:Assets written to: model-016.model\\assets\n",
      "Epoch 17/20\n",
      "28/28 [==============================] - 56s 2s/step - loss: 0.0215 - accuracy: 0.9921 - val_loss: 0.2826 - val_accuracy: 0.9276\n",
      "Epoch 18/20\n",
      "28/28 [==============================] - 50s 2s/step - loss: 0.0241 - accuracy: 0.9898 - val_loss: 0.1111 - val_accuracy: 0.9683\n",
      "INFO:tensorflow:Assets written to: model-018.model\\assets\n",
      "Epoch 19/20\n",
      "28/28 [==============================] - 55s 2s/step - loss: 0.0244 - accuracy: 0.9955 - val_loss: 0.1370 - val_accuracy: 0.9683\n",
      "Epoch 20/20\n",
      "28/28 [==============================] - 49s 2s/step - loss: 0.0125 - accuracy: 0.9955 - val_loss: 0.2305 - val_accuracy: 0.9502\n"
     ]
    }
   ],
   "source": [
    "checkpoint = ModelCheckpoint('model-{epoch:03d}.model',monitor='val_loss',verbose=0,save_best_only=True,mode='auto')\n",
    "history=model.fit(train_data,train_target,epochs=20,callbacks=checkpoint,validation_split=0.2)"
   ]
  },
  {
   "cell_type": "code",
   "execution_count": 6,
   "metadata": {},
   "outputs": [],
   "source": [
    "model.save(\"Model.h5\")"
   ]
  }
 ],
 "metadata": {
  "interpreter": {
   "hash": "63fd5069d213b44bf678585dea6b12cceca9941eaf7f819626cde1f2670de90d"
  },
  "kernelspec": {
   "display_name": "Python 3.9.7 64-bit",
   "name": "python3"
  },
  "language_info": {
   "codemirror_mode": {
    "name": "ipython",
    "version": 3
   },
   "file_extension": ".py",
   "mimetype": "text/x-python",
   "name": "python",
   "nbconvert_exporter": "python",
   "pygments_lexer": "ipython3",
   "version": "3.9.7"
  },
  "orig_nbformat": 4
 },
 "nbformat": 4,
 "nbformat_minor": 2
}
